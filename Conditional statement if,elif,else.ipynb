{
 "cells": [
  {
   "cell_type": "code",
   "execution_count": 1,
   "id": "af34bf2f",
   "metadata": {},
   "outputs": [
    {
     "name": "stdout",
     "output_type": "stream",
     "text": [
      "this is my first condition\n"
     ]
    }
   ],
   "source": [
    "a = 10\n",
    "if a == 10 :\n",
    "    print(\"this is my first condition\")"
   ]
  },
  {
   "cell_type": "code",
   "execution_count": 2,
   "id": "af551035",
   "metadata": {},
   "outputs": [],
   "source": [
    "a = 10\n",
    "if a == 11 :\n",
    "    print(\"this is my first condition\")"
   ]
  },
  {
   "cell_type": "code",
   "execution_count": 3,
   "id": "1716e131",
   "metadata": {},
   "outputs": [],
   "source": [
    "a = 10 \n",
    "if a > 5 :\n",
    "    pass"
   ]
  },
  {
   "cell_type": "code",
   "execution_count": 4,
   "id": "dd58a6fb",
   "metadata": {},
   "outputs": [
    {
     "name": "stdout",
     "output_type": "stream",
     "text": [
      "print this if condition is true\n"
     ]
    }
   ],
   "source": [
    "a = 10 \n",
    "if a > 8 :\n",
    "    print( \"print this if condition is true\")"
   ]
  },
  {
   "cell_type": "code",
   "execution_count": 5,
   "id": "9d88df84",
   "metadata": {},
   "outputs": [],
   "source": [
    "a = 10 \n",
    "if a < 8 :\n",
    "    print( \"print this if condition is true\")"
   ]
  },
  {
   "cell_type": "code",
   "execution_count": 6,
   "id": "ac6b194d",
   "metadata": {},
   "outputs": [
    {
     "name": "stdout",
     "output_type": "stream",
     "text": [
      "my condition is false\n"
     ]
    }
   ],
   "source": [
    "a = 10 \n",
    "if a != 11 :\n",
    "    print(\"my condition is false\")\n",
    "else :\n",
    "    print(\"print this\")"
   ]
  },
  {
   "cell_type": "code",
   "execution_count": 7,
   "id": "c4c768b3",
   "metadata": {},
   "outputs": [
    {
     "name": "stdout",
     "output_type": "stream",
     "text": [
      "print this\n"
     ]
    }
   ],
   "source": [
    "a = 10 \n",
    "if a == 11 :\n",
    "    print(\"my condition is false\")\n",
    "else :\n",
    "    print(\"print this\")"
   ]
  },
  {
   "cell_type": "code",
   "execution_count": 8,
   "id": "4fa11c3c",
   "metadata": {},
   "outputs": [
    {
     "name": "stdout",
     "output_type": "stream",
     "text": [
      "if all the blocks will fail then do this\n"
     ]
    }
   ],
   "source": [
    "a = 10 \n",
    "if a == 12:\n",
    "    print(\"we are trying to compare 10 with 12\")\n",
    "elif a == 11:\n",
    "    print(\"we trying to compare 10 with 11\")\n",
    "else :\n",
    "    print(\"if all the blocks will fail then do this\")"
   ]
  },
  {
   "cell_type": "code",
   "execution_count": 9,
   "id": "9c1d5921",
   "metadata": {},
   "outputs": [
    {
     "name": "stdout",
     "output_type": "stream",
     "text": [
      "we trying to compare 10 with 11\n"
     ]
    }
   ],
   "source": [
    "a = 10 \n",
    "if a == 12:\n",
    "    print(\"we are trying to compare 10 with 12\")\n",
    "elif a == 10:\n",
    "    print(\"we trying to compare 10 with 11\")\n",
    "else :\n",
    "    print(\"if all the blocks will fail then do this\")"
   ]
  },
  {
   "cell_type": "code",
   "execution_count": 10,
   "id": "849b14e3",
   "metadata": {},
   "outputs": [],
   "source": [
    "price = 500\n",
    "if price > 500 :\n",
    "    print(\"i wont be able to buy a t-shirt\")\n",
    "elif price < 500 :\n",
    "    print(\"i will be able to buy a t-shirt\")"
   ]
  },
  {
   "cell_type": "code",
   "execution_count": 11,
   "id": "1822a12e",
   "metadata": {},
   "outputs": [
    {
     "name": "stdout",
     "output_type": "stream",
     "text": [
      "i will be able to buy a t-shirt\n"
     ]
    }
   ],
   "source": [
    "price = 500\n",
    "if price > 500 :\n",
    "    print(\"i wont be able to buy a t-shirt\")\n",
    "elif price <= 500 :\n",
    "    print(\"i will be able to buy a t-shirt\")"
   ]
  },
  {
   "cell_type": "code",
   "execution_count": 12,
   "id": "d9e48fee",
   "metadata": {},
   "outputs": [
    {
     "ename": "SyntaxError",
     "evalue": "invalid syntax (476508646.py, line 6)",
     "output_type": "error",
     "traceback": [
      "\u001b[1;36m  Input \u001b[1;32mIn [12]\u001b[1;36m\u001b[0m\n\u001b[1;33m    else price == 500 :\u001b[0m\n\u001b[1;37m         ^\u001b[0m\n\u001b[1;31mSyntaxError\u001b[0m\u001b[1;31m:\u001b[0m invalid syntax\n"
     ]
    }
   ],
   "source": [
    "price = 500\n",
    "if price > 500 :\n",
    "    print(\"i wont be able to buy a t-shirt\")\n",
    "elif price < 500 :\n",
    "    print(\"i will be able to buy a t-shirt\")\n",
    "else price == 500 :\n",
    "    print(\"i dont know\")"
   ]
  },
  {
   "cell_type": "code",
   "execution_count": null,
   "id": "2298f61d",
   "metadata": {},
   "outputs": [],
   "source": [
    "price = 500\n",
    "if price > 500 :\n",
    "    print(\"i wont be able to buy a t-shirt\")\n",
    "elif price < 500 :\n",
    "    print(\"i will be able to buy a t-shirt\")\n",
    "elif price == 500 :\n",
    "    print(\"for sure i will be able to buy\")\n",
    "else :\n",
    "    print(\"i dont know\")"
   ]
  },
  {
   "cell_type": "code",
   "execution_count": null,
   "id": "b77c5c4d",
   "metadata": {},
   "outputs": [],
   "source": [
    "price < 500"
   ]
  },
  {
   "cell_type": "code",
   "execution_count": null,
   "id": "56f0d27c",
   "metadata": {},
   "outputs": [],
   "source": [
    "price > 500 "
   ]
  },
  {
   "cell_type": "code",
   "execution_count": null,
   "id": "e4d6369c",
   "metadata": {},
   "outputs": [],
   "source": [
    "l = [1,2,3,4,5,6]\n",
    "2 in l"
   ]
  },
  {
   "cell_type": "code",
   "execution_count": null,
   "id": "a47d6a41",
   "metadata": {},
   "outputs": [],
   "source": [
    "if 2 in l:\n",
    "    print(\"try to perform a task\")\n",
    "else :\n",
    "    print(\"do not perform task\")"
   ]
  },
  {
   "cell_type": "code",
   "execution_count": null,
   "id": "6411d911",
   "metadata": {},
   "outputs": [],
   "source": [
    "60 in l"
   ]
  },
  {
   "cell_type": "code",
   "execution_count": null,
   "id": "797c9207",
   "metadata": {},
   "outputs": [],
   "source": [
    "l"
   ]
  },
  {
   "cell_type": "code",
   "execution_count": null,
   "id": "5b0fad98",
   "metadata": {},
   "outputs": [],
   "source": [
    "if 1 in l :\n",
    "    print (\" try to do a addition\")\n",
    "elif 2 in l :\n",
    "    print(\"try to do sub\")\n",
    "elif 3 in l :\n",
    "    print(\"try to do mul\")"
   ]
  },
  {
   "cell_type": "code",
   "execution_count": null,
   "id": "ab762e27",
   "metadata": {},
   "outputs": [],
   "source": [
    "if 10 in l :\n",
    "    print (\" try to do a addition\")\n",
    "elif 2 in l :\n",
    "    print(\"try to do sub\")\n",
    "elif 3 in l :\n",
    "    print(\"try to do mul\")"
   ]
  },
  {
   "cell_type": "code",
   "execution_count": null,
   "id": "d37cef46",
   "metadata": {},
   "outputs": [],
   "source": [
    "if 1 in l :\n",
    "    print (\" try to do a addition\")\n",
    "elif 2 in l :\n",
    "    print(\"try to do sub\")\n",
    "elif 3 in l :\n",
    "    print(\"try to do mul\")\n",
    "if 4 in l :\n",
    "    print(\" this is a new statement\")"
   ]
  },
  {
   "cell_type": "code",
   "execution_count": null,
   "id": "862b5ae5",
   "metadata": {},
   "outputs": [],
   "source": [
    " a = 400 \n",
    "    "
   ]
  },
  {
   "cell_type": "code",
   "execution_count": null,
   "id": "4b31bd66",
   "metadata": {},
   "outputs": [],
   "source": [
    "b = input()"
   ]
  },
  {
   "cell_type": "code",
   "execution_count": null,
   "id": "fe0f9274",
   "metadata": {},
   "outputs": [],
   "source": [
    "b"
   ]
  },
  {
   "cell_type": "code",
   "execution_count": null,
   "id": "d0a98ffa",
   "metadata": {},
   "outputs": [],
   "source": [
    "b = input()"
   ]
  },
  {
   "cell_type": "code",
   "execution_count": null,
   "id": "e2244af0",
   "metadata": {},
   "outputs": [],
   "source": [
    "type(b)"
   ]
  },
  {
   "cell_type": "code",
   "execution_count": null,
   "id": "d9a81a1d",
   "metadata": {},
   "outputs": [],
   "source": [
    "b = int(input())"
   ]
  },
  {
   "cell_type": "code",
   "execution_count": null,
   "id": "903567ff",
   "metadata": {},
   "outputs": [],
   "source": [
    "b = int(input())"
   ]
  },
  {
   "cell_type": "code",
   "execution_count": null,
   "id": "6398311a",
   "metadata": {},
   "outputs": [],
   "source": [
    "type(b)"
   ]
  },
  {
   "cell_type": "code",
   "execution_count": null,
   "id": "9a150d43",
   "metadata": {},
   "outputs": [],
   "source": [
    "c = int(input())\n",
    "if c < 500 :\n",
    "    print(\"i will be able to buy something\")"
   ]
  },
  {
   "cell_type": "code",
   "execution_count": null,
   "id": "f4237860",
   "metadata": {},
   "outputs": [],
   "source": [
    "c"
   ]
  },
  {
   "cell_type": "code",
   "execution_count": null,
   "id": "f0f37102",
   "metadata": {},
   "outputs": [],
   "source": [
    "price = int(input())\n",
    "if price < 500 :\n",
    "    print(\"i will be able to buy something\")\n",
    "    if price < 400 :\n",
    "        print(\"i will bd able to buy a jacket\")\n",
    "    elif price < 300 :\n",
    "        print(\"i will be able to buy a shirt\")\n",
    "    else :\n",
    "        print(\"i wont to  able to buy anything\")\n",
    "else :\n",
    "    print(\"i wont be able to buy anything with this price tag\")"
   ]
  },
  {
   "cell_type": "code",
   "execution_count": null,
   "id": "11b24e0e",
   "metadata": {},
   "outputs": [],
   "source": [
    "price = int(input())\n",
    "if price < 500 :\n",
    "    print(\"i will be able to buy something\")\n",
    "    if price < 400 :\n",
    "        print(\"i will bd able to buy a jacket\")\n",
    "    elif price < 300 :\n",
    "        print(\"i will be able to buy a shirt\")\n",
    "    else :\n",
    "        print(\"i wont to  able to buy anything\")\n",
    "else :\n",
    "    print(\"i wont be able to buy anything with this price tag\")"
   ]
  },
  {
   "cell_type": "code",
   "execution_count": null,
   "id": "a17d4d64",
   "metadata": {},
   "outputs": [],
   "source": [
    "price = int(input())\n",
    "if price < 500 :\n",
    "    print(\"i will be able to buy something\")\n",
    "    if price < 400 :\n",
    "        print(\"i will bd able to buy a jacket\")\n",
    "    elif price < 300 :\n",
    "        print(\"i will be able to buy a shirt\")\n",
    "    else :\n",
    "        print(\"i wont to  able to buy anything\")\n",
    "else :\n",
    "    print(\"i wont be able to buy anything with this price tag\")"
   ]
  },
  {
   "cell_type": "code",
   "execution_count": null,
   "id": "58336f63",
   "metadata": {},
   "outputs": [],
   "source": [
    "price = int(input())\n",
    "if price < 500 :\n",
    "    print(\"i will be able to buy something\")\n",
    "    if price < 400 :\n",
    "        print(\"i will bd able to buy a jacket\")\n",
    "    elif price < 300 :\n",
    "        print(\"i will be able to buy a shirt\")\n",
    "    else :\n",
    "        print(\"i wont to  able to buy anything\")\n",
    "else :\n",
    "    print(\"i wont be able to buy anything with this price tag\")"
   ]
  },
  {
   "cell_type": "code",
   "execution_count": null,
   "id": "2179f6db",
   "metadata": {},
   "outputs": [],
   "source": [
    "price = int(input())\n",
    "if price < 500 :\n",
    "    print(\"i will be able to buy something\")\n",
    "    if price < 400 :\n",
    "        print(\"i will bd able to buy a jacket\")\n",
    "    elif price < 300 :\n",
    "        print(\"i will be able to buy a shirt\")\n",
    "    if price < 200 :\n",
    "        print(\" i would like to do something\")\n",
    "    else :\n",
    "        print(\"i wont to  able to buy anything\")\n",
    "else :\n",
    "    print(\"i wont be able to buy anything with this price tag\")"
   ]
  },
  {
   "cell_type": "code",
   "execution_count": null,
   "id": "8466482a",
   "metadata": {},
   "outputs": [],
   "source": [
    "price = int(input())\n",
    "if price < 500 :\n",
    "    print(\"i will be able to buy something\")\n",
    "    if price < 400 :\n",
    "        print(\"i will bd able to buy a jacket\")\n",
    "    elif price < 300 :\n",
    "        print(\"i will be able to buy a shirt\")\n",
    "    if price < 200 :\n",
    "        print(\" i would like to do something\")\n",
    "    else :\n",
    "        print(\"i wont to  able to buy anything\")\n",
    "else :\n",
    "    print(\"i wont be able to buy anything with this price tag\")\n",
    "    if price > 500 :\n",
    "        print(\"lets try something else\")"
   ]
  },
  {
   "cell_type": "code",
   "execution_count": null,
   "id": "3119c94b",
   "metadata": {},
   "outputs": [],
   "source": [
    "marks = int(input()) \n",
    "if marks > 600 :\n",
    "    print(\"will get GRE\")\n",
    "    if marks < 600 :\n",
    "        print(\"no GRE\")\n",
    "    elif marks < 500 :\n",
    "        print(\"this is something else\")\n",
    "else :\n",
    "    print(\"will get jrf\")\n",
    "    if marks > 500 :\n",
    "        print(\"will get toffel\")\n",
    "        "
   ]
  },
  {
   "cell_type": "code",
   "execution_count": null,
   "id": "02aed84c",
   "metadata": {},
   "outputs": [],
   "source": [
    "marks = 600 \n",
    "if marks > 600 :\n",
    "    print(\"will get GRE\")\n",
    "    if marks < 600 :\n",
    "        print(\"no GRE\")\n",
    "    elif marks < 500 :\n",
    "        print(\"this is something else\")\n",
    "else :\n",
    "    print(\"will get jrf\")\n",
    "    if marks > 500 :\n",
    "        print(\"will get toffel\")\n",
    "        "
   ]
  },
  {
   "cell_type": "code",
   "execution_count": null,
   "id": "b1fcadda",
   "metadata": {},
   "outputs": [],
   "source": [
    "val = float(input(\"enter a floating point number\"))\n",
    "if val >= 0 :\n",
    "    if val == 0 :\n",
    "        print(\"entered value is zero\")\n",
    "    else :\n",
    "        print(\"enter value is a positive number\")\n",
    "else :\n",
    "    print(\"entered number is negative number\")"
   ]
  },
  {
   "cell_type": "code",
   "execution_count": null,
   "id": "b5df2d2c",
   "metadata": {},
   "outputs": [],
   "source": [
    "val = float(input(\"enter a floating point number\"))\n",
    "if val >= 0 :\n",
    "    if val == 0 :\n",
    "        print(\"entered value is zero\")\n",
    "    else :\n",
    "        print(\"enter value is a positive number\")\n",
    "else :\n",
    "    print(\"entered number is negative number\")"
   ]
  },
  {
   "cell_type": "code",
   "execution_count": null,
   "id": "de14176e",
   "metadata": {},
   "outputs": [],
   "source": [
    "val = float(input(\"enter a floating point number\"))\n",
    "if val >= 0 :\n",
    "    if val == 0 :\n",
    "        print(\"entered value is zero\")\n",
    "    else :\n",
    "        print(\"enter value is a positive number\")\n",
    "else :\n",
    "    print(\"entered number is negative number\")"
   ]
  },
  {
   "cell_type": "code",
   "execution_count": null,
   "id": "ef25a882",
   "metadata": {},
   "outputs": [],
   "source": [
    "val = float(input(\"enter a floating point number\"))\n",
    "if val >= 0 :\n",
    "    if val == 0 :\n",
    "        print(\"entered value is zero\")\n",
    "    else :\n",
    "        print(\"enter value is a positive number\")\n",
    "else :\n",
    "    print(\"entered number is negative number\")"
   ]
  },
  {
   "cell_type": "code",
   "execution_count": null,
   "id": "9605f857",
   "metadata": {},
   "outputs": [],
   "source": [
    "a = 10 \n",
    "if a <= 10 :\n",
    "    print(\"try to do something\")"
   ]
  },
  {
   "cell_type": "code",
   "execution_count": null,
   "id": "4a811e8f",
   "metadata": {},
   "outputs": [],
   "source": [
    "a = 10 \n",
    "if a < 10 or a == 10 :\n",
    "    print(\"try to do something\")"
   ]
  },
  {
   "cell_type": "code",
   "execution_count": null,
   "id": "ecca3095",
   "metadata": {},
   "outputs": [],
   "source": [
    "a = 10 \n",
    "if a < 10 or a > 10 :\n",
    "    print(\"try to do something\")"
   ]
  },
  {
   "cell_type": "code",
   "execution_count": null,
   "id": "41658bf3",
   "metadata": {},
   "outputs": [],
   "source": [
    "a = 10 \n",
    "if a < 10 and a == 10 :\n",
    "    print(\"try to do something\")"
   ]
  },
  {
   "cell_type": "code",
   "execution_count": null,
   "id": "ff75a7be",
   "metadata": {},
   "outputs": [],
   "source": [
    "a = 10 \n",
    "if a <= 10 and a == 10 :\n",
    "    print(\"try to do something\")"
   ]
  },
  {
   "cell_type": "code",
   "execution_count": null,
   "id": "4d1e28f5",
   "metadata": {},
   "outputs": [],
   "source": [
    "a = \"vish\"\n",
    "if a == \"vish\" and a == \"vish\":\n",
    "    print(\"this is vish\")"
   ]
  },
  {
   "cell_type": "code",
   "execution_count": null,
   "id": "af28d418",
   "metadata": {},
   "outputs": [],
   "source": [
    "a = 10 \n",
    "b = 11\n",
    "c = 12\n",
    "d = 13\n",
    "if a == 9 and b == 11 and c == 12 and d == 13:\n",
    "    print(\"lets do something\")"
   ]
  },
  {
   "cell_type": "code",
   "execution_count": null,
   "id": "9c5e573b",
   "metadata": {},
   "outputs": [],
   "source": [
    "a = 10 \n",
    "b = 11\n",
    "c = 12\n",
    "d = 13\n",
    "if a == 9 or b == 11 and c == 12 and d== 13:\n",
    "    print(\"lets do something\")"
   ]
  },
  {
   "cell_type": "code",
   "execution_count": null,
   "id": "bcda3bbc",
   "metadata": {},
   "outputs": [],
   "source": [
    "d = {\"key1\" : \"value\" , \"key2\" : \"vish\" , \"key3\" : \"patil\"}"
   ]
  },
  {
   "cell_type": "code",
   "execution_count": null,
   "id": "91318a21",
   "metadata": {},
   "outputs": [],
   "source": [
    "if d['key1'] == \"value\" and d['key2'] == \"vish\" and d['key3'] == 'patil':\n",
    "    print(\"all the values are verified\")\n",
    "    print(d.values())"
   ]
  },
  {
   "cell_type": "code",
   "execution_count": null,
   "id": "f99edf7f",
   "metadata": {},
   "outputs": [],
   "source": [
    "d['key1']"
   ]
  },
  {
   "cell_type": "code",
   "execution_count": null,
   "id": "f1bd139b",
   "metadata": {},
   "outputs": [],
   "source": [
    "if d['key1'] == \"value\" and d['key2'] == \"Vish\" and d['key3'] == 'patil':\n",
    "    print(\"all the values are verified\")\n",
    "    print(d.values())\n",
    "else :\n",
    "    print(\"all the values are not verified\")"
   ]
  },
  {
   "cell_type": "markdown",
   "id": "61ded880",
   "metadata": {},
   "source": [
    "LOOP INTRuduction"
   ]
  },
  {
   "cell_type": "code",
   "execution_count": 13,
   "id": "bac66e16",
   "metadata": {},
   "outputs": [],
   "source": [
    "l = [1,2,3,4,5,\"vish\", 345.56]"
   ]
  },
  {
   "cell_type": "code",
   "execution_count": 14,
   "id": "f1deaad1",
   "metadata": {},
   "outputs": [
    {
     "data": {
      "text/plain": [
       "3"
      ]
     },
     "execution_count": 14,
     "metadata": {},
     "output_type": "execute_result"
    }
   ],
   "source": [
    "l[2]"
   ]
  },
  {
   "cell_type": "code",
   "execution_count": 15,
   "id": "12ca3911",
   "metadata": {},
   "outputs": [
    {
     "data": {
      "text/plain": [
       "[2, 3, 4]"
      ]
     },
     "execution_count": 15,
     "metadata": {},
     "output_type": "execute_result"
    }
   ],
   "source": [
    "l[1:4]"
   ]
  },
  {
   "cell_type": "code",
   "execution_count": 16,
   "id": "aa1f962a",
   "metadata": {},
   "outputs": [
    {
     "data": {
      "text/plain": [
       "[1, 2, 3, 4, 5, 'vish', 345.56]"
      ]
     },
     "execution_count": 16,
     "metadata": {},
     "output_type": "execute_result"
    }
   ],
   "source": [
    "l"
   ]
  },
  {
   "cell_type": "code",
   "execution_count": 17,
   "id": "20b76a5d",
   "metadata": {},
   "outputs": [
    {
     "name": "stdout",
     "output_type": "stream",
     "text": [
      "i\n",
      "i\n",
      "i\n",
      "i\n",
      "i\n",
      "i\n",
      "i\n"
     ]
    }
   ],
   "source": [
    "for i in l:\n",
    "    print(\"i\")"
   ]
  },
  {
   "cell_type": "code",
   "execution_count": null,
   "id": "173ef845",
   "metadata": {},
   "outputs": [],
   "source": []
  },
  {
   "cell_type": "code",
   "execution_count": null,
   "id": "05127dbb",
   "metadata": {},
   "outputs": [],
   "source": []
  }
 ],
 "metadata": {
  "kernelspec": {
   "display_name": "Python 3 (ipykernel)",
   "language": "python",
   "name": "python3"
  },
  "language_info": {
   "codemirror_mode": {
    "name": "ipython",
    "version": 3
   },
   "file_extension": ".py",
   "mimetype": "text/x-python",
   "name": "python",
   "nbconvert_exporter": "python",
   "pygments_lexer": "ipython3",
   "version": "3.9.12"
  }
 },
 "nbformat": 4,
 "nbformat_minor": 5
}
